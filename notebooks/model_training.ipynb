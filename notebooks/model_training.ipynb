{
 "cells": [
  {
   "cell_type": "markdown",
   "metadata": {},
   "source": [
    "## 2.0 Model Training  \n",
    "### 2.1 Import Data and Required Packages"
   ]
  },
  {
   "cell_type": "code",
   "execution_count": 281,
   "metadata": {},
   "outputs": [],
   "source": [
    "# Basic import\n",
    "import numpy as np\n",
    "import pandas as pd\n",
    "import matplotlib.pyplot as plt\n",
    "import seaborn as sns\n",
    "\n",
    "#Modeling \n",
    "from sklearn.metrics import accuracy_score\n",
    "# logistic regression\n",
    "from sklearn.linear_model import LogisticRegression\n",
    "# naive bayes\n",
    "from sklearn.naive_bayes import GaussianNB\n",
    "# Support Vector Machine\n",
    "from sklearn import svm\n",
    "# KNN\n",
    "from sklearn.neighbors import KNeighborsClassifier\n",
    "# Decision Tree\n",
    "from sklearn.tree import DecisionTreeClassifier\n",
    "# Random Forest\n",
    "from sklearn.ensemble import RandomForestClassifier\n",
    "# xgboost\n",
    "import xgboost as xgb\n"
   ]
  },
  {
   "cell_type": "markdown",
   "metadata": {},
   "source": [
    "### 2.2 Import data"
   ]
  },
  {
   "cell_type": "code",
   "execution_count": 282,
   "metadata": {},
   "outputs": [],
   "source": [
    "df = pd.read_csv('../data/raw/Delawnymous_SSY_20170813.csv')"
   ]
  },
  {
   "cell_type": "code",
   "execution_count": 283,
   "metadata": {},
   "outputs": [
    {
     "data": {
      "text/html": [
       "<div>\n",
       "<style scoped>\n",
       "    .dataframe tbody tr th:only-of-type {\n",
       "        vertical-align: middle;\n",
       "    }\n",
       "\n",
       "    .dataframe tbody tr th {\n",
       "        vertical-align: top;\n",
       "    }\n",
       "\n",
       "    .dataframe thead th {\n",
       "        text-align: right;\n",
       "    }\n",
       "</style>\n",
       "<table border=\"1\" class=\"dataframe\">\n",
       "  <thead>\n",
       "    <tr style=\"text-align: right;\">\n",
       "      <th></th>\n",
       "      <th>sid</th>\n",
       "      <th>school_year</th>\n",
       "      <th>school_code</th>\n",
       "      <th>s_male</th>\n",
       "      <th>s_birth_year</th>\n",
       "      <th>s_race</th>\n",
       "      <th>s_frpl</th>\n",
       "      <th>s_ell</th>\n",
       "      <th>s_iep</th>\n",
       "      <th>s_grade_level</th>\n",
       "      <th>...</th>\n",
       "      <th>std_scaled_e</th>\n",
       "      <th>sat_math_score</th>\n",
       "      <th>sat_verbal_score</th>\n",
       "      <th>sat_writing_score</th>\n",
       "      <th>hs_diploma</th>\n",
       "      <th>hs_diploma_year</th>\n",
       "      <th>sch_charter</th>\n",
       "      <th>sch_alternative</th>\n",
       "      <th>sch_vocational</th>\n",
       "      <th>record_type</th>\n",
       "    </tr>\n",
       "  </thead>\n",
       "  <tbody>\n",
       "    <tr>\n",
       "      <th>0</th>\n",
       "      <td>75357</td>\n",
       "      <td>2013</td>\n",
       "      <td>214</td>\n",
       "      <td>1</td>\n",
       "      <td>1999</td>\n",
       "      <td>Black</td>\n",
       "      <td>Free Lunch</td>\n",
       "      <td>0.0</td>\n",
       "      <td>0.0</td>\n",
       "      <td>7</td>\n",
       "      <td>...</td>\n",
       "      <td>-0.779797</td>\n",
       "      <td>NaN</td>\n",
       "      <td>NaN</td>\n",
       "      <td>NaN</td>\n",
       "      <td>0</td>\n",
       "      <td>NaN</td>\n",
       "      <td>0</td>\n",
       "      <td>0</td>\n",
       "      <td>0</td>\n",
       "      <td>Fake data</td>\n",
       "    </tr>\n",
       "    <tr>\n",
       "      <th>1</th>\n",
       "      <td>77859</td>\n",
       "      <td>2012</td>\n",
       "      <td>206</td>\n",
       "      <td>0</td>\n",
       "      <td>2008</td>\n",
       "      <td>Asian</td>\n",
       "      <td>NaN</td>\n",
       "      <td>NaN</td>\n",
       "      <td>NaN</td>\n",
       "      <td>NaN</td>\n",
       "      <td>...</td>\n",
       "      <td>NaN</td>\n",
       "      <td>NaN</td>\n",
       "      <td>NaN</td>\n",
       "      <td>NaN</td>\n",
       "      <td>0</td>\n",
       "      <td>NaN</td>\n",
       "      <td>0</td>\n",
       "      <td>0</td>\n",
       "      <td>0</td>\n",
       "      <td>Fake data</td>\n",
       "    </tr>\n",
       "    <tr>\n",
       "      <th>2</th>\n",
       "      <td>252963</td>\n",
       "      <td>2013</td>\n",
       "      <td>376</td>\n",
       "      <td>0</td>\n",
       "      <td>1997</td>\n",
       "      <td>White</td>\n",
       "      <td>Free Lunch</td>\n",
       "      <td>0.0</td>\n",
       "      <td>1.0</td>\n",
       "      <td>7</td>\n",
       "      <td>...</td>\n",
       "      <td>0.150554</td>\n",
       "      <td>NaN</td>\n",
       "      <td>NaN</td>\n",
       "      <td>NaN</td>\n",
       "      <td>0</td>\n",
       "      <td>NaN</td>\n",
       "      <td>0</td>\n",
       "      <td>0</td>\n",
       "      <td>0</td>\n",
       "      <td>Fake data</td>\n",
       "    </tr>\n",
       "    <tr>\n",
       "      <th>3</th>\n",
       "      <td>126847</td>\n",
       "      <td>2016</td>\n",
       "      <td>401</td>\n",
       "      <td>1</td>\n",
       "      <td>2002</td>\n",
       "      <td>Black</td>\n",
       "      <td>Does Not Qualify</td>\n",
       "      <td>0.0</td>\n",
       "      <td>1.0</td>\n",
       "      <td>8</td>\n",
       "      <td>...</td>\n",
       "      <td>-1.154834</td>\n",
       "      <td>NaN</td>\n",
       "      <td>NaN</td>\n",
       "      <td>NaN</td>\n",
       "      <td>0</td>\n",
       "      <td>NaN</td>\n",
       "      <td>0</td>\n",
       "      <td>1</td>\n",
       "      <td>0</td>\n",
       "      <td>Fake data</td>\n",
       "    </tr>\n",
       "    <tr>\n",
       "      <th>4</th>\n",
       "      <td>91450</td>\n",
       "      <td>2012</td>\n",
       "      <td>185</td>\n",
       "      <td>1</td>\n",
       "      <td>2003</td>\n",
       "      <td>White</td>\n",
       "      <td>Does Not Qualify</td>\n",
       "      <td>0.0</td>\n",
       "      <td>0.0</td>\n",
       "      <td>3</td>\n",
       "      <td>...</td>\n",
       "      <td>0.286661</td>\n",
       "      <td>NaN</td>\n",
       "      <td>NaN</td>\n",
       "      <td>NaN</td>\n",
       "      <td>0</td>\n",
       "      <td>NaN</td>\n",
       "      <td>0</td>\n",
       "      <td>0</td>\n",
       "      <td>0</td>\n",
       "      <td>Fake data</td>\n",
       "    </tr>\n",
       "  </tbody>\n",
       "</table>\n",
       "<p>5 rows × 23 columns</p>\n",
       "</div>"
      ],
      "text/plain": [
       "      sid  school_year  school_code  s_male  s_birth_year s_race  \\\n",
       "0   75357         2013          214       1          1999  Black   \n",
       "1   77859         2012          206       0          2008  Asian   \n",
       "2  252963         2013          376       0          1997  White   \n",
       "3  126847         2016          401       1          2002  Black   \n",
       "4   91450         2012          185       1          2003  White   \n",
       "\n",
       "             s_frpl  s_ell  s_iep s_grade_level  ...  std_scaled_e  \\\n",
       "0        Free Lunch    0.0    0.0             7  ...     -0.779797   \n",
       "1               NaN    NaN    NaN           NaN  ...           NaN   \n",
       "2        Free Lunch    0.0    1.0             7  ...      0.150554   \n",
       "3  Does Not Qualify    0.0    1.0             8  ...     -1.154834   \n",
       "4  Does Not Qualify    0.0    0.0             3  ...      0.286661   \n",
       "\n",
       "   sat_math_score  sat_verbal_score  sat_writing_score  hs_diploma  \\\n",
       "0             NaN               NaN                NaN           0   \n",
       "1             NaN               NaN                NaN           0   \n",
       "2             NaN               NaN                NaN           0   \n",
       "3             NaN               NaN                NaN           0   \n",
       "4             NaN               NaN                NaN           0   \n",
       "\n",
       "   hs_diploma_year  sch_charter  sch_alternative  sch_vocational  record_type  \n",
       "0              NaN            0                0               0    Fake data  \n",
       "1              NaN            0                0               0    Fake data  \n",
       "2              NaN            0                0               0    Fake data  \n",
       "3              NaN            0                1               0    Fake data  \n",
       "4              NaN            0                0               0    Fake data  \n",
       "\n",
       "[5 rows x 23 columns]"
      ]
     },
     "execution_count": 283,
     "metadata": {},
     "output_type": "execute_result"
    }
   ],
   "source": [
    "df.head()"
   ]
  },
  {
   "cell_type": "code",
   "execution_count": 284,
   "metadata": {},
   "outputs": [
    {
     "data": {
      "text/html": [
       "<div>\n",
       "<style scoped>\n",
       "    .dataframe tbody tr th:only-of-type {\n",
       "        vertical-align: middle;\n",
       "    }\n",
       "\n",
       "    .dataframe tbody tr th {\n",
       "        vertical-align: top;\n",
       "    }\n",
       "\n",
       "    .dataframe thead th {\n",
       "        text-align: right;\n",
       "    }\n",
       "</style>\n",
       "<table border=\"1\" class=\"dataframe\">\n",
       "  <thead>\n",
       "    <tr style=\"text-align: right;\">\n",
       "      <th></th>\n",
       "      <th>sid</th>\n",
       "      <th>school_year</th>\n",
       "      <th>school_code</th>\n",
       "      <th>s_male</th>\n",
       "      <th>s_birth_year</th>\n",
       "      <th>s_race</th>\n",
       "      <th>s_frpl</th>\n",
       "      <th>s_ell</th>\n",
       "      <th>s_iep</th>\n",
       "      <th>s_grade_level</th>\n",
       "      <th>...</th>\n",
       "      <th>std_scaled_e</th>\n",
       "      <th>sat_math_score</th>\n",
       "      <th>sat_verbal_score</th>\n",
       "      <th>sat_writing_score</th>\n",
       "      <th>hs_diploma</th>\n",
       "      <th>hs_diploma_year</th>\n",
       "      <th>sch_charter</th>\n",
       "      <th>sch_alternative</th>\n",
       "      <th>sch_vocational</th>\n",
       "      <th>record_type</th>\n",
       "    </tr>\n",
       "  </thead>\n",
       "  <tbody>\n",
       "    <tr>\n",
       "      <th>25</th>\n",
       "      <td>154585</td>\n",
       "      <td>2013</td>\n",
       "      <td>265</td>\n",
       "      <td>0</td>\n",
       "      <td>1994</td>\n",
       "      <td>Black</td>\n",
       "      <td>Does Not Qualify</td>\n",
       "      <td>0.0</td>\n",
       "      <td>0.0</td>\n",
       "      <td>12</td>\n",
       "      <td>...</td>\n",
       "      <td>NaN</td>\n",
       "      <td>NaN</td>\n",
       "      <td>NaN</td>\n",
       "      <td>NaN</td>\n",
       "      <td>1</td>\n",
       "      <td>2013.0</td>\n",
       "      <td>0</td>\n",
       "      <td>0</td>\n",
       "      <td>0</td>\n",
       "      <td>Fake data</td>\n",
       "    </tr>\n",
       "    <tr>\n",
       "      <th>33</th>\n",
       "      <td>221022</td>\n",
       "      <td>2014</td>\n",
       "      <td>323</td>\n",
       "      <td>1</td>\n",
       "      <td>1996</td>\n",
       "      <td>Black</td>\n",
       "      <td>Free Lunch</td>\n",
       "      <td>0.0</td>\n",
       "      <td>0.0</td>\n",
       "      <td>12</td>\n",
       "      <td>...</td>\n",
       "      <td>NaN</td>\n",
       "      <td>NaN</td>\n",
       "      <td>NaN</td>\n",
       "      <td>NaN</td>\n",
       "      <td>1</td>\n",
       "      <td>2014.0</td>\n",
       "      <td>0</td>\n",
       "      <td>1</td>\n",
       "      <td>0</td>\n",
       "      <td>Fake data</td>\n",
       "    </tr>\n",
       "    <tr>\n",
       "      <th>48</th>\n",
       "      <td>72985</td>\n",
       "      <td>2013</td>\n",
       "      <td>394</td>\n",
       "      <td>0</td>\n",
       "      <td>1995</td>\n",
       "      <td>Asian</td>\n",
       "      <td>Does Not Qualify</td>\n",
       "      <td>0.0</td>\n",
       "      <td>0.0</td>\n",
       "      <td>12</td>\n",
       "      <td>...</td>\n",
       "      <td>NaN</td>\n",
       "      <td>NaN</td>\n",
       "      <td>NaN</td>\n",
       "      <td>NaN</td>\n",
       "      <td>1</td>\n",
       "      <td>2013.0</td>\n",
       "      <td>0</td>\n",
       "      <td>1</td>\n",
       "      <td>0</td>\n",
       "      <td>Fake data</td>\n",
       "    </tr>\n",
       "    <tr>\n",
       "      <th>67</th>\n",
       "      <td>183695</td>\n",
       "      <td>2014</td>\n",
       "      <td>179</td>\n",
       "      <td>1</td>\n",
       "      <td>1996</td>\n",
       "      <td>White</td>\n",
       "      <td>Does Not Qualify</td>\n",
       "      <td>0.0</td>\n",
       "      <td>0.0</td>\n",
       "      <td>12</td>\n",
       "      <td>...</td>\n",
       "      <td>NaN</td>\n",
       "      <td>380.0</td>\n",
       "      <td>380.0</td>\n",
       "      <td>290.0</td>\n",
       "      <td>1</td>\n",
       "      <td>2014.0</td>\n",
       "      <td>0</td>\n",
       "      <td>0</td>\n",
       "      <td>0</td>\n",
       "      <td>Fake data</td>\n",
       "    </tr>\n",
       "    <tr>\n",
       "      <th>82</th>\n",
       "      <td>81766</td>\n",
       "      <td>2012</td>\n",
       "      <td>191</td>\n",
       "      <td>1</td>\n",
       "      <td>1993</td>\n",
       "      <td>White</td>\n",
       "      <td>Does Not Qualify</td>\n",
       "      <td>0.0</td>\n",
       "      <td>0.0</td>\n",
       "      <td>12</td>\n",
       "      <td>...</td>\n",
       "      <td>NaN</td>\n",
       "      <td>NaN</td>\n",
       "      <td>NaN</td>\n",
       "      <td>NaN</td>\n",
       "      <td>1</td>\n",
       "      <td>2012.0</td>\n",
       "      <td>0</td>\n",
       "      <td>0</td>\n",
       "      <td>0</td>\n",
       "      <td>Fake data</td>\n",
       "    </tr>\n",
       "  </tbody>\n",
       "</table>\n",
       "<p>5 rows × 23 columns</p>\n",
       "</div>"
      ],
      "text/plain": [
       "       sid  school_year  school_code  s_male  s_birth_year s_race  \\\n",
       "25  154585         2013          265       0          1994  Black   \n",
       "33  221022         2014          323       1          1996  Black   \n",
       "48   72985         2013          394       0          1995  Asian   \n",
       "67  183695         2014          179       1          1996  White   \n",
       "82   81766         2012          191       1          1993  White   \n",
       "\n",
       "              s_frpl  s_ell  s_iep s_grade_level  ...  std_scaled_e  \\\n",
       "25  Does Not Qualify    0.0    0.0            12  ...           NaN   \n",
       "33        Free Lunch    0.0    0.0            12  ...           NaN   \n",
       "48  Does Not Qualify    0.0    0.0            12  ...           NaN   \n",
       "67  Does Not Qualify    0.0    0.0            12  ...           NaN   \n",
       "82  Does Not Qualify    0.0    0.0            12  ...           NaN   \n",
       "\n",
       "    sat_math_score  sat_verbal_score  sat_writing_score  hs_diploma  \\\n",
       "25             NaN               NaN                NaN           1   \n",
       "33             NaN               NaN                NaN           1   \n",
       "48             NaN               NaN                NaN           1   \n",
       "67           380.0             380.0              290.0           1   \n",
       "82             NaN               NaN                NaN           1   \n",
       "\n",
       "    hs_diploma_year  sch_charter  sch_alternative  sch_vocational  record_type  \n",
       "25           2013.0            0                0               0    Fake data  \n",
       "33           2014.0            0                1               0    Fake data  \n",
       "48           2013.0            0                1               0    Fake data  \n",
       "67           2014.0            0                0               0    Fake data  \n",
       "82           2012.0            0                0               0    Fake data  \n",
       "\n",
       "[5 rows x 23 columns]"
      ]
     },
     "execution_count": 284,
     "metadata": {},
     "output_type": "execute_result"
    }
   ],
   "source": [
    "df = df[df.s_grade_level == '12']\n",
    "df.head()\n"
   ]
  },
  {
   "cell_type": "code",
   "execution_count": 285,
   "metadata": {},
   "outputs": [
    {
     "name": "stdout",
     "output_type": "stream",
     "text": [
      "<class 'pandas.core.frame.DataFrame'>\n",
      "Index: 46371 entries, 25 to 759512\n",
      "Data columns (total 23 columns):\n",
      " #   Column             Non-Null Count  Dtype  \n",
      "---  ------             --------------  -----  \n",
      " 0   sid                46371 non-null  int64  \n",
      " 1   school_year        46371 non-null  int64  \n",
      " 2   school_code        46371 non-null  int64  \n",
      " 3   s_male             46371 non-null  int64  \n",
      " 4   s_birth_year       46371 non-null  int64  \n",
      " 5   s_race             46371 non-null  object \n",
      " 6   s_frpl             46371 non-null  object \n",
      " 7   s_ell              46371 non-null  float64\n",
      " 8   s_iep              46371 non-null  float64\n",
      " 9   s_grade_level      46371 non-null  object \n",
      " 10  s_days_absent      31503 non-null  float64\n",
      " 11  s_days_suspended   46371 non-null  float64\n",
      " 12  std_scaled_m       189 non-null    float64\n",
      " 13  std_scaled_e       187 non-null    float64\n",
      " 14  sat_math_score     26390 non-null  float64\n",
      " 15  sat_verbal_score   26390 non-null  float64\n",
      " 16  sat_writing_score  26384 non-null  float64\n",
      " 17  hs_diploma         46371 non-null  int64  \n",
      " 18  hs_diploma_year    41963 non-null  float64\n",
      " 19  sch_charter        46371 non-null  int64  \n",
      " 20  sch_alternative    46371 non-null  int64  \n",
      " 21  sch_vocational     46371 non-null  int64  \n",
      " 22  record_type        46371 non-null  object \n",
      "dtypes: float64(10), int64(9), object(4)\n",
      "memory usage: 8.5+ MB\n"
     ]
    }
   ],
   "source": [
    "df.info()"
   ]
  },
  {
   "cell_type": "markdown",
   "metadata": {},
   "source": [
    "### 2.3 Select variables of importance"
   ]
  },
  {
   "cell_type": "code",
   "execution_count": 286,
   "metadata": {},
   "outputs": [],
   "source": [
    "temp = df[['s_male', 's_race', 's_frpl','s_ell', 's_iep',\n",
    "           's_days_absent','s_days_suspended', 'sat_math_score', 'sat_verbal_score', 'sat_writing_score',\n",
    "           'hs_diploma']]"
   ]
  },
  {
   "cell_type": "code",
   "execution_count": 287,
   "metadata": {},
   "outputs": [
    {
     "name": "stdout",
     "output_type": "stream",
     "text": [
      "col_0       count\n",
      "hs_diploma       \n",
      "0            4408\n",
      "1           41963\n"
     ]
    }
   ],
   "source": [
    "cross_tab = pd.crosstab(index=temp['hs_diploma'], columns='count')\n",
    "\n",
    "# Display the crosstab\n",
    "print(cross_tab)\n"
   ]
  },
  {
   "cell_type": "markdown",
   "metadata": {},
   "source": [
    "### 2.4 Update int to boolean for demographics"
   ]
  },
  {
   "cell_type": "code",
   "execution_count": 207,
   "metadata": {},
   "outputs": [],
   "source": [
    "#temp.loc[df['s_male'] == 0, 's_male'] = 'female'\n",
    "#temp.loc[df['s_male'] == 1, 's_male'] = 'male'\n",
    "#temp.loc[df['s_ell'] == 0, 's_ell'] = 'not_ell'\n",
    "#temp.loc[df['s_ell'] == 1, 's_ell'] = 'ell'\n",
    "#temp.loc[df['s_iep'] == 0, 's_iep'] = 'no_iep'\n",
    "#temp.loc[df['s_iep'] == 1, 's_iep'] = 'iep'\n",
    "#temp.loc[df['sch_charter'] == 0, 'sch_charter'] = 'no_charter'\n",
    "#temp.loc[df['sch_charter'] == 1, 'sch_charter'] = 'yes_charter'\n",
    "#temp.loc[df['sch_alternative'] == 0, 'sch_alternative'] = 'no_alt'\n",
    "#temp.loc[df['sch_alternative'] == 1, 'sch_alternative'] = 'yes_alt'\n",
    "#temp.loc[df['sch_vocational'] == 0, 'sch_vocational'] = 'no_voc'\n",
    "#temp.loc[df['sch_vocational'] == 1, 'sch_vocational'] = 'yes_voc'\n"
   ]
  },
  {
   "cell_type": "code",
   "execution_count": 288,
   "metadata": {},
   "outputs": [
    {
     "name": "stdout",
     "output_type": "stream",
     "text": [
      "<class 'pandas.core.frame.DataFrame'>\n",
      "Index: 46371 entries, 25 to 759512\n",
      "Data columns (total 11 columns):\n",
      " #   Column             Non-Null Count  Dtype  \n",
      "---  ------             --------------  -----  \n",
      " 0   s_male             46371 non-null  int64  \n",
      " 1   s_race             46371 non-null  object \n",
      " 2   s_frpl             46371 non-null  object \n",
      " 3   s_ell              46371 non-null  float64\n",
      " 4   s_iep              46371 non-null  float64\n",
      " 5   s_days_absent      31503 non-null  float64\n",
      " 6   s_days_suspended   46371 non-null  float64\n",
      " 7   sat_math_score     26390 non-null  float64\n",
      " 8   sat_verbal_score   26390 non-null  float64\n",
      " 9   sat_writing_score  26384 non-null  float64\n",
      " 10  hs_diploma         46371 non-null  int64  \n",
      "dtypes: float64(7), int64(2), object(2)\n",
      "memory usage: 4.2+ MB\n"
     ]
    }
   ],
   "source": [
    "temp.info()\n"
   ]
  },
  {
   "cell_type": "code",
   "execution_count": 289,
   "metadata": {},
   "outputs": [
    {
     "name": "stdout",
     "output_type": "stream",
     "text": [
      "s_male                 2\n",
      "s_race                 7\n",
      "s_frpl                 3\n",
      "s_ell                  2\n",
      "s_iep                  2\n",
      "s_days_absent        143\n",
      "s_days_suspended      47\n",
      "sat_math_score        61\n",
      "sat_verbal_score      61\n",
      "sat_writing_score     61\n",
      "hs_diploma             2\n",
      "dtype: int64\n"
     ]
    }
   ],
   "source": [
    "vars = temp.columns\n",
    "unique_values_counts = temp.nunique()\n",
    "\n",
    "\n",
    "# Display the result\n",
    "print(unique_values_counts)"
   ]
  },
  {
   "cell_type": "code",
   "execution_count": 291,
   "metadata": {},
   "outputs": [
    {
     "name": "stdout",
     "output_type": "stream",
     "text": [
      "s_male [0 1]\n",
      "s_race ['Black' 'Asian' 'White' 'Hispanic' 'Native American' 'Multiple' 'Other']\n",
      "s_frpl ['Does Not Qualify' 'Free Lunch' 'Reduced Lunch']\n",
      "s_ell [0. 1.]\n",
      "s_iep [0. 1.]\n",
      "s_days_absent [  0.  23.  26.   9.  nan  18.  11.   1.  16.   5.  55.  17.   4.  32.\n",
      "  51.  25.   7.  37.  29.  15.  21.   2.  12.   6.  27. 114.  10.   3.\n",
      "  19.   8.  13.  63.  20.  42.  22.  28. 108.  30.  14. 101.  40.  59.\n",
      "  41.  38.  80.  24.  52.  33.  36.  31.  97.  86.  49.  56.  34.  60.\n",
      "  47. 115.  50.  61.  78.  39.  45.  48.  95.  54.  58. 104.  74. 111.\n",
      "  35.  46.  44.  79. 103.  87.  68.  53.  70.  65. 109. 151.  75.  64.\n",
      "  82.  88. 121.  67.  43.  76.  81.  57.  71.  89.  73.  96. 102. 126.\n",
      "  62.  83. 113.  84.  66. 106.  69. 120.  94. 177.  85. 112. 144. 107.\n",
      "  72. 118. 123. 131. 125. 124.  98. 100.  91.  92. 117. 171.  77. 119.\n",
      " 105. 164. 136. 166.  90. 129. 138. 168. 116.  93. 163. 150. 140. 141.\n",
      " 127. 122.  99. 133.]\n",
      "s_days_suspended [ 0. 13.  2.  1.  9.  5. 11. 10.  3. 26.  4.  6.  7.  8. 14. 21. 25. 15.\n",
      " 19. 12. 16. 17. 28. 18. 23. 30. 29. 20. 32. 22. 27. 39. 24. 90. 31. 52.\n",
      " 85. 36. 37. 38. 45. 53. 41. 44. 34. 93. 35.]\n",
      "sat_math_score [ nan 380. 440. 480. 400. 430. 370. 460. 560. 500. 550. 540. 280. 510.\n",
      " 640. 340. 530. 470. 420. 410. 580. 520. 650. 490. 450. 350. 610. 360.\n",
      " 240. 680. 390. 260. 570. 600. 330. 620. 720. 700. 320. 290. 310. 220.\n",
      " 200. 590. 690. 630. 670. 740. 750. 300. 250. 710. 660. 800. 270. 230.\n",
      " 770. 730. 760. 780. 210. 790.]\n",
      "sat_verbal_score [ nan 380. 460. 490. 500. 240. 570. 390. 440. 400. 430. 370. 530. 510.\n",
      " 290. 650. 480. 610. 580. 340. 450. 420. 520. 350. 320. 600. 200. 560.\n",
      " 630. 470. 410. 280. 540. 360. 550. 300. 590. 330. 310. 740. 220. 620.\n",
      " 640. 270. 670. 720. 800. 760. 780. 260. 230. 680. 710. 660. 700. 730.\n",
      " 690. 250. 750. 770. 210. 790.]\n",
      "sat_writing_score [ nan 290. 380. 450. 510. 330. 470. 390. 570. 410. 490. 540. 400. 460.\n",
      " 530. 590. 500. 440. 640. 480. 580. 520. 370. 250. 360. 610. 660. 420.\n",
      " 270. 200. 620. 320. 560. 630. 670. 550. 350. 210. 430. 240. 310. 770.\n",
      " 340. 650. 600. 280. 300. 740. 680. 230. 700. 220. 720. 260. 690. 710.\n",
      " 760. 730. 800. 750. 780. 790.]\n",
      "hs_diploma [1 0]\n"
     ]
    }
   ],
   "source": [
    "for var in vars:\n",
    "    unique = temp[var].unique()\n",
    "    print(var, unique)"
   ]
  },
  {
   "cell_type": "markdown",
   "metadata": {},
   "source": [
    "### 2.5 Train test split"
   ]
  },
  {
   "cell_type": "code",
   "execution_count": 292,
   "metadata": {},
   "outputs": [],
   "source": [
    "from sklearn.model_selection import train_test_split\n",
    "X = temp.drop(columns = ['hs_diploma'], axis = 1)\n",
    "y = temp['hs_diploma']"
   ]
  },
  {
   "cell_type": "markdown",
   "metadata": {},
   "source": [
    "### Class distribution"
   ]
  },
  {
   "cell_type": "code",
   "execution_count": 293,
   "metadata": {},
   "outputs": [
    {
     "data": {
      "text/plain": [
       "hs_diploma\n",
       "1    41963\n",
       "0     4408\n",
       "Name: count, dtype: int64"
      ]
     },
     "execution_count": 293,
     "metadata": {},
     "output_type": "execute_result"
    }
   ],
   "source": [
    "diploma_cnts = y.value_counts()\n",
    "diploma_cnts\n"
   ]
  },
  {
   "cell_type": "code",
   "execution_count": 294,
   "metadata": {},
   "outputs": [
    {
     "data": {
      "text/plain": [
       "<Axes: ylabel='count'>"
      ]
     },
     "execution_count": 294,
     "metadata": {},
     "output_type": "execute_result"
    },
    {
     "data": {
      "image/png": "[encoded data removed]",
      "text/plain": [
       "<Figure size 640x480 with 1 Axes>"
      ]
     },
     "metadata": {},
     "output_type": "display_data"
    }
   ],
   "source": [
    "# show pie chart\n",
    "y.value_counts().plot.pie(autopct = '%.2f')"
   ]
  },
  {
   "cell_type": "code",
   "execution_count": 295,
   "metadata": {},
   "outputs": [
    {
     "data": {
      "text/plain": [
       "([<matplotlib.patches.Wedge at 0x29e28fd90>,\n",
       "  <matplotlib.patches.Wedge at 0x29e28fbb0>],\n",
       " [Text(-1.0513119450754804, 0.32364053229101303, '1'),\n",
       "  Text(1.051311960226186, -0.32364048307554877, '0')],\n",
       " [Text(-0.5734428791320801, 0.17653119943146162, '90.49'),\n",
       "  Text(0.5734428873961014, -0.17653117258666293, '9.51')])"
      ]
     },
     "execution_count": 295,
     "metadata": {},
     "output_type": "execute_result"
    },
    {
     "data": {
      "image/png": "[encoded data removed]",
      "text/plain": [
       "<Figure size 640x480 with 1 Axes>"
      ]
     },
     "metadata": {},
     "output_type": "display_data"
    }
   ],
   "source": [
    "import matplotlib.pyplot as plt\n",
    "fig1, ax1 = plt.subplots()\n",
    "ax1.pie(y.value_counts(), autopct = '%.2f', labels = diploma_cnts.index)"
   ]
  },
  {
   "cell_type": "markdown",
   "metadata": {},
   "source": [
    "### Class balancing"
   ]
  },
  {
   "cell_type": "code",
   "execution_count": 296,
   "metadata": {},
   "outputs": [],
   "source": [
    "# split the data:\n",
    "X_train, X_test, y_train, y_test = train_test_split(X,y, test_size = 0.2, random_state = 67)"
   ]
  },
  {
   "cell_type": "code",
   "execution_count": 297,
   "metadata": {},
   "outputs": [
    {
     "data": {
      "text/plain": [
       "((37096, 10), (37096,), (9275, 10), (9275,))"
      ]
     },
     "execution_count": 297,
     "metadata": {},
     "output_type": "execute_result"
    }
   ],
   "source": [
    "X_train.shape, y_train.shape, X_test.shape, y_test.shape"
   ]
  },
  {
   "cell_type": "code",
   "execution_count": 246,
   "metadata": {},
   "outputs": [
    {
     "data": {
      "text/plain": [
       "<Axes: ylabel='count'>"
      ]
     },
     "execution_count": 246,
     "metadata": {},
     "output_type": "execute_result"
    },
    {
     "data": {
      "image/png": "[encoded data removed]",
      "text/plain": [
       "<Figure size 640x480 with 1 Axes>"
      ]
     },
     "metadata": {},
     "output_type": "display_data"
    }
   ],
   "source": [
    "y_train.value_counts().plot.pie(autopct = '%2.f')"
   ]
  },
  {
   "cell_type": "code",
   "execution_count": 247,
   "metadata": {},
   "outputs": [
    {
     "data": {
      "text/plain": [
       "hs_diploma\n",
       "1    33552\n",
       "0     3544\n",
       "Name: count, dtype: int64"
      ]
     },
     "execution_count": 247,
     "metadata": {},
     "output_type": "execute_result"
    }
   ],
   "source": [
    "y_train.value_counts()"
   ]
  },
  {
   "cell_type": "markdown",
   "metadata": {},
   "source": [
    "### Random Undersampling"
   ]
  },
  {
   "cell_type": "code",
   "execution_count": 260,
   "metadata": {},
   "outputs": [],
   "source": [
    "from imblearn.under_sampling import RandomUnderSampler\n",
    "\n",
    "rus = RandomUnderSampler(sampling_strategy=1) # numerical\n",
    "#rus = RandomUnderSampler(sampling_strategy='not minority') # string\n",
    "\n",
    "X_train_rus, y_train_rus = rus.fit_resample(X_train, y_train)"
   ]
  },
  {
   "cell_type": "code",
   "execution_count": 261,
   "metadata": {},
   "outputs": [
    {
     "data": {
      "image/png": "[encoded data removed]",
      "text/plain": [
       "<Figure size 640x480 with 1 Axes>"
      ]
     },
     "metadata": {},
     "output_type": "display_data"
    }
   ],
   "source": [
    "ax = y_train_rus.value_counts().plot.pie(autopct = '%.2f')\n",
    "_ = ax.set_title(\"Under-sampling\")"
   ]
  },
  {
   "cell_type": "code",
   "execution_count": 262,
   "metadata": {},
   "outputs": [
    {
     "data": {
      "text/plain": [
       "hs_diploma\n",
       "0    3544\n",
       "1    3544\n",
       "Name: count, dtype: int64"
      ]
     },
     "execution_count": 262,
     "metadata": {},
     "output_type": "execute_result"
    }
   ],
   "source": [
    "y_train_rus.value_counts()"
   ]
  },
  {
   "cell_type": "code",
   "execution_count": 298,
   "metadata": {},
   "outputs": [],
   "source": [
    "from sklearn.pipeline import Pipeline\n",
    "from sklearn.impute import SimpleImputer\n",
    "from sklearn.preprocessing import OneHotEncoder, StandardScaler\n",
    "from sklearn.compose import ColumnTransformer\n",
    "from sklearn.feature_selection import SelectPercentile, chi2\n",
    "from sklearn.compose import make_column_selector as selector\n",
    "\n",
    "numeric_features = X.select_dtypes(exclude = 'object').columns\n",
    "numeric_transformer = Pipeline(\n",
    "    steps=[(\"imputer\", SimpleImputer(strategy=\"median\")), (\"scaler\", StandardScaler())]\n",
    ")\n",
    "\n",
    "categorical_features = X.select_dtypes(include='object').columns\n",
    "categorical_transformer = Pipeline(\n",
    "    steps=[\n",
    "        (\"encoder\", OneHotEncoder(handle_unknown=\"ignore\")),\n",
    "        ]\n",
    ")\n",
    "preprocessor = ColumnTransformer(\n",
    "    transformers=[\n",
    "        (\"num\", numeric_transformer, selector(dtype_exclude=\"object\")),\n",
    "        (\"cat\", categorical_transformer, selector(dtype_include=\"object\")),\n",
    "    ]\n",
    ")"
   ]
  },
  {
   "cell_type": "code",
   "execution_count": 299,
   "metadata": {},
   "outputs": [],
   "source": [
    "X_train_rus = preprocessor.fit_transform(X_train)\n"
   ]
  },
  {
   "cell_type": "code",
   "execution_count": 300,
   "metadata": {},
   "outputs": [],
   "source": [
    "X_test = preprocessor.transform(X_test)"
   ]
  },
  {
   "cell_type": "code",
   "execution_count": 301,
   "metadata": {},
   "outputs": [],
   "source": [
    "models = {}\n",
    "\n",
    "# Logistic Regression\n",
    "from sklearn.linear_model import LogisticRegression\n",
    "models['Logistic Regression'] = LogisticRegression()\n",
    "\n",
    "# Support Vector Machines\n",
    "from sklearn.svm import LinearSVC\n",
    "models['Support Vector Machines'] = LinearSVC()\n",
    "\n",
    "# Decision Trees\n",
    "from sklearn.tree import DecisionTreeClassifier\n",
    "models['Decision Trees'] = DecisionTreeClassifier()\n",
    "\n",
    "# Random Forest\n",
    "from sklearn.ensemble import RandomForestClassifier\n",
    "models['Random Forest'] = RandomForestClassifier()\n",
    "\n",
    "# Naive Bayes\n",
    "from sklearn.naive_bayes import GaussianNB\n",
    "models['Naive Bayes'] = GaussianNB()\n",
    "\n",
    "# K-Nearest Neighbors\n",
    "from sklearn.neighbors import KNeighborsClassifier\n",
    "models['K-Nearest Neighbor'] = KNeighborsClassifier()"
   ]
  },
  {
   "cell_type": "code",
   "execution_count": 303,
   "metadata": {},
   "outputs": [
    {
     "name": "stderr",
     "output_type": "stream",
     "text": [
      "/Users/rjw/miniconda3/envs/venv/lib/python3.10/site-packages/sklearn/linear_model/_logistic.py:460: ConvergenceWarning: lbfgs failed to converge (status=1):\n",
      "STOP: TOTAL NO. of ITERATIONS REACHED LIMIT.\n",
      "\n",
      "Increase the number of iterations (max_iter) or scale the data as shown in:\n",
      "    https://scikit-learn.org/stable/modules/preprocessing.html\n",
      "Please also refer to the documentation for alternative solver options:\n",
      "    https://scikit-learn.org/stable/modules/linear_model.html#logistic-regression\n",
      "  n_iter_i = _check_optimize_result(\n",
      "/Users/rjw/miniconda3/envs/venv/lib/python3.10/site-packages/sklearn/svm/_classes.py:32: FutureWarning: The default value of `dual` will change from `True` to `'auto'` in 1.5. Set the value of `dual` explicitly to suppress the warning.\n",
      "  warnings.warn(\n",
      "/Users/rjw/miniconda3/envs/venv/lib/python3.10/site-packages/sklearn/svm/_base.py:1242: ConvergenceWarning: Liblinear failed to converge, increase the number of iterations.\n",
      "  warnings.warn(\n"
     ]
    }
   ],
   "source": [
    "from sklearn.metrics import accuracy_score, precision_score, recall_score\n",
    "\n",
    "accuracy, precision, recall = {}, {}, {}\n",
    "\n",
    "for key in models.keys():\n",
    "    \n",
    "    # Fit the classifier\n",
    "    models[key].fit(X_train_rus, y_train)\n",
    "    \n",
    "    # Make predictions\n",
    "    predictions = models[key].predict(X_test)\n",
    "    \n",
    "    # Calculate metrics\n",
    "    accuracy[key] = accuracy_score(predictions, y_test)\n",
    "    precision[key] = precision_score(predictions, y_test)\n",
    "    recall[key] = recall_score(predictions, y_test)"
   ]
  },
  {
   "cell_type": "code",
   "execution_count": 304,
   "metadata": {},
   "outputs": [
    {
     "data": {
      "text/html": [
       "<div>\n",
       "<style scoped>\n",
       "    .dataframe tbody tr th:only-of-type {\n",
       "        vertical-align: middle;\n",
       "    }\n",
       "\n",
       "    .dataframe tbody tr th {\n",
       "        vertical-align: top;\n",
       "    }\n",
       "\n",
       "    .dataframe thead th {\n",
       "        text-align: right;\n",
       "    }\n",
       "</style>\n",
       "<table border=\"1\" class=\"dataframe\">\n",
       "  <thead>\n",
       "    <tr style=\"text-align: right;\">\n",
       "      <th></th>\n",
       "      <th>Accuracy</th>\n",
       "      <th>Precision</th>\n",
       "      <th>Recall</th>\n",
       "    </tr>\n",
       "  </thead>\n",
       "  <tbody>\n",
       "    <tr>\n",
       "      <th>Logistic Regression</th>\n",
       "      <td>0.906415</td>\n",
       "      <td>0.999049</td>\n",
       "      <td>0.907158</td>\n",
       "    </tr>\n",
       "    <tr>\n",
       "      <th>Support Vector Machines</th>\n",
       "      <td>0.906846</td>\n",
       "      <td>1.000000</td>\n",
       "      <td>0.906846</td>\n",
       "    </tr>\n",
       "    <tr>\n",
       "      <th>Decision Trees</th>\n",
       "      <td>0.865660</td>\n",
       "      <td>0.942456</td>\n",
       "      <td>0.912303</td>\n",
       "    </tr>\n",
       "    <tr>\n",
       "      <th>Random Forest</th>\n",
       "      <td>0.893477</td>\n",
       "      <td>0.977767</td>\n",
       "      <td>0.911247</td>\n",
       "    </tr>\n",
       "    <tr>\n",
       "      <th>Naive Bayes</th>\n",
       "      <td>0.833315</td>\n",
       "      <td>0.888598</td>\n",
       "      <td>0.924657</td>\n",
       "    </tr>\n",
       "    <tr>\n",
       "      <th>K-Nearest Neighbor</th>\n",
       "      <td>0.893801</td>\n",
       "      <td>0.978956</td>\n",
       "      <td>0.910639</td>\n",
       "    </tr>\n",
       "  </tbody>\n",
       "</table>\n",
       "</div>"
      ],
      "text/plain": [
       "                         Accuracy  Precision    Recall\n",
       "Logistic Regression      0.906415   0.999049  0.907158\n",
       "Support Vector Machines  0.906846   1.000000  0.906846\n",
       "Decision Trees           0.865660   0.942456  0.912303\n",
       "Random Forest            0.893477   0.977767  0.911247\n",
       "Naive Bayes              0.833315   0.888598  0.924657\n",
       "K-Nearest Neighbor       0.893801   0.978956  0.910639"
      ]
     },
     "execution_count": 304,
     "metadata": {},
     "output_type": "execute_result"
    }
   ],
   "source": [
    "df_model = pd.DataFrame(index=models.keys(), columns=['Accuracy', 'Precision', 'Recall'])\n",
    "df_model['Accuracy'] = accuracy.values()\n",
    "df_model['Precision'] = precision.values()\n",
    "df_model['Recall'] = recall.values()\n",
    "\n",
    "df_model"
   ]
  },
  {
   "cell_type": "code",
   "execution_count": 305,
   "metadata": {},
   "outputs": [
    {
     "data": {
      "image/png": "[encoded data removed]",
      "text/plain": [
       "<Figure size 640x480 with 1 Axes>"
      ]
     },
     "metadata": {},
     "output_type": "display_data"
    }
   ],
   "source": [
    "ax = df_model.plot.barh()\n",
    "ax.legend(\n",
    "    ncol=len(models.keys()), \n",
    "    bbox_to_anchor=(0, 1), \n",
    "    loc='lower left', \n",
    "    prop={'size': 14}\n",
    ")\n",
    "plt.tight_layout()"
   ]
  }
 ],
 "metadata": {
  "kernelspec": {
   "display_name": "venv",
   "language": "python",
   "name": "python3"
  },
  "language_info": {
   "codemirror_mode": {
    "name": "ipython",
    "version": 3
   },
   "file_extension": ".py",
   "mimetype": "text/x-python",
   "name": "python",
   "nbconvert_exporter": "python",
   "pygments_lexer": "ipython3",
   "version": "3.10.0"
  },
  "orig_nbformat": 4
 },
 "nbformat": 4,
 "nbformat_minor": 2
}
